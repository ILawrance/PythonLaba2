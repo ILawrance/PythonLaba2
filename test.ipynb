{
 "cells": [
  {
   "cell_type": "code",
   "execution_count": 18,
   "metadata": {},
   "outputs": [],
   "source": [
    "def multiplicate(m, p, i):\n",
    "    proizv = 1\n",
    "    for j in range(1, m+1):\n",
    "        proizv *= (2*p + i)/(j**2 + i)\n",
    "    return proizv "
   ]
  },
  {
   "cell_type": "code",
   "execution_count": 19,
   "metadata": {},
   "outputs": [],
   "source": [
    "def func(n, m, p):\n",
    "    rez = 0 \n",
    "    for i in range(1, n+1) :\n",
    "        rez += ((i**2 + p) / (i+2)) * multiplicate(m, p, i)\n",
    "    print(rez)"
   ]
  },
  {
   "cell_type": "code",
   "execution_count": 20,
   "metadata": {},
   "outputs": [
    {
     "name": "stdout",
     "output_type": "stream",
     "text": [
      "12.755555555555553\n"
     ]
    }
   ],
   "source": [
    "func(n = int(input(\"N = \")), m = int(input(\"M = \")), p = int(input(\"p = \")))"
   ]
  }
 ],
 "metadata": {
  "kernelspec": {
   "display_name": "Python 3",
   "language": "python",
   "name": "python3"
  },
  "language_info": {
   "codemirror_mode": {
    "name": "ipython",
    "version": 3
   },
   "file_extension": ".py",
   "mimetype": "text/x-python",
   "name": "python",
   "nbconvert_exporter": "python",
   "pygments_lexer": "ipython3",
   "version": "3.10.6"
  },
  "orig_nbformat": 4
 },
 "nbformat": 4,
 "nbformat_minor": 2
}
